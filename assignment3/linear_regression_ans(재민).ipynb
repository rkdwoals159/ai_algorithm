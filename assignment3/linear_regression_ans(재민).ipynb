{
 "cells": [
  {
   "cell_type": "markdown",
   "metadata": {
    "id": "BlqssBhTE8Pf"
   },
   "source": [
    "# Assignment : Linear Regression\n",
    "\n",
    "이번 과제부터, 여러분은 파이썬을 사용하여 데이터 분석과 머신러닝과 관련된 알고리즘을 구현할 것입니다.\n",
    "\n",
    "이번 과제의 목표는 다음과 같습니다.\n",
    "- 파이썬을 사용하여 데이터 처리\n",
    "- 파이썬을 사용하여 그래프 그리기\n",
    "- Linear regression 구현\n"
   ]
  },
  {
   "cell_type": "markdown",
   "metadata": {
    "id": "-Erlpr1AE8Pk"
   },
   "source": [
    "## Part 1: 파이썬을 사용한 데이터 처리\n",
    "\n",
    "데이터 분석의 시작은 외부에서 생성된 데이터를 우리가 사용할 프레임워크, 파이썬에 불러오는 것입니다. 데이터를 사용하는데 앞서 후에 데이터를 사용하기 쉽게 생성 단계에서 정규화된 포멧으로 데이터를 저장하는 것이 좋습니다. 임의로 데이터를 생성한다면, 후 처리 과정에서 데이터를 읽기 위해 별도의 작업이 필요하게 됩니다.\n",
    "\n",
    "데이터를 저장하기 위해 일반적으로 사용하는 포멧은 다음과 같습니다.\n",
    "\n",
    "|type|name| desc |\n",
    "|:---|:---:| :---: |\n",
    "| text | CSV | comma-separated value |\n",
    "| text | JSON | Javascript object notation |\n",
    "| binary | HDF5 | Hierarchical data format |\n",
    "| binary | excel | excel format |\n",
    "\n",
    "이외에도 다양한 포멧들이 있습니다. 다양한 포멧들에 대해 궁금하다면 [여기](https://pandas.pydata.org/pandas-docs/stable/user_guide/io.html)를 참조하세요.\n",
    "\n",
    "이번 과제에서는 txt 포멧을 사용할 것입니다. \n",
    "\n",
    "| Name | Codename |\tCores |\tClock |\tSocket | Process | L3 Cache | TDP | Released |\n",
    "|:---:|:---:|:---:|:---:|:---:|:---:|:---:|:---:|:---:|\n",
    "| Ryzen 5 5600X | Vermeer | 6 / 12 | 3.7 — 4.6 GHz | Socket AM4 | 7 nm | 32MB | 65 W | Nov 5th, 2020 |\n",
    "| Ryzen 7 5800X | Vermeer | 8 / 16 | 3.8 — 4.7 GHz | Socket AM4 | 7 nm | 32MB | 105 W | Nov 5th, 2020 |\n",
    "| Ryzen 9 5900X | Vermeer | 12 / 24 | 3.7 — 4.8 GHz | Socket AM4 | 7 nm | 64MB | 105 W | Nov 5th, 2020 |\n",
    "| Ryzen 9 5950X | Vermeer | 16 / 32 | 3.4 — 4.9 GHz | Socket AM4 | 7 nm | 64MB | 105 W | Nov 5th, 2020 |\n",
    "\n",
    "위의 표 데이터를 txt로 표현하면 다음과 같습니다.\n",
    "```\n",
    "Name,Codename,Cores,Clock,Socket,Process,L3 Cache,TDP,Released\n",
    "Ryzen 5 5600X,Vermeer,6 / 12,3.7 — 4.6 GHz,Socket AM4,7 nm,32MB,65 W,Nov 5th, 2020\n",
    "Ryzen 7 5800X,Vermeer,8 / 16,3.8 — 4.7 GHz,Socket AM4,7 nm,32MB,105 W,Nov 5th, 2020\n",
    "Ryzen 9 5900X,Vermeer,12 / 24,3.7 — 4.8 GHz,Socket AM4,7 nm,64MB,105 W,Nov 5th, 2020\n",
    "Ryzen 9 5950X,Vermeer,16 / 32,3.4 — 4.9 GHz,Socket AM4,7 nm,64MB,105 W,Nov 5th, 2020\n",
    "```\n",
    "\n",
    "이제 주어진 txt(csv) 파일을 읽는 방법을 배워봅시다.\n",
    "python으로 txt(csv) 파일을 다루는 방법은, 텍스트 파일을 읽어서 파싱하는 방법부터, numpy, pandas와 같은 라이브러리를 사용하는 방법 등 다양하게 있습니다. 여기에서는 numpy를 사용하여 파일을 읽는 방법을 다루겠습니다.\n",
    "\n",
    "다음은 numpy에서 파일을 다루기 위한 함수입니다. _\\*txt_ 함수명이 _txt_ 로 끝나는 함수들은 텍스트 파일을 다루기 위한 함수입니다.\n",
    "- np.save(filename, array)\n",
    "- np.load(filename)\n",
    "- np.savetxt(filename, array)\n",
    "- np.loadtxt(filename)\n",
    "\n",
    "np.savetxt() 함수를 사용하여 txt(csv) 파일을 만들기 위해서는 delimiter인자를 ','로 변형해야 합니다.\n"
   ]
  },
  {
   "cell_type": "markdown",
   "metadata": {
    "id": "BIvl_T1OE8Pp"
   },
   "source": [
    "## Question 1\n",
    "\n",
    "ex1data.txt 파일을 불러와 *train_data* 변수에 저장하세요."
   ]
  },
  {
   "cell_type": "code",
   "execution_count": 2,
   "metadata": {
    "colab": {
     "base_uri": "https://localhost:8080/",
     "height": 345
    },
    "executionInfo": {
     "elapsed": 243,
     "status": "error",
     "timestamp": 1644128928758,
     "user": {
      "displayName": "",
      "photoUrl": "",
      "userId": ""
     },
     "user_tz": -540
    },
    "id": "aPpSvUEpE8Pp",
    "outputId": "e9e6f43b-3ba3-4e1b-a8b8-1678c641478e"
   },
   "outputs": [
    {
     "name": "stdout",
     "output_type": "stream",
     "text": [
      "[[ 6.1101  17.592  ]\n",
      " [ 5.5277   9.1302 ]\n",
      " [ 8.5186  13.662  ]\n",
      " [ 7.0032  11.854  ]\n",
      " [ 5.8598   6.8233 ]\n",
      " [ 8.3829  11.886  ]\n",
      " [ 7.4764   4.3483 ]\n",
      " [ 8.5781  12.     ]\n",
      " [ 6.4862   6.5987 ]\n",
      " [ 5.0546   3.8166 ]\n",
      " [ 5.7107   3.2522 ]\n",
      " [14.164   15.505  ]\n",
      " [ 5.734    3.1551 ]\n",
      " [ 8.4084   7.2258 ]\n",
      " [ 5.6407   0.71618]\n",
      " [ 5.3794   3.5129 ]\n",
      " [ 6.3654   5.3048 ]\n",
      " [ 5.1301   0.56077]\n",
      " [ 6.4296   3.6518 ]\n",
      " [ 7.0708   5.3893 ]\n",
      " [ 6.1891   3.1386 ]\n",
      " [20.27    21.767  ]\n",
      " [ 5.4901   4.263  ]\n",
      " [ 6.3261   5.1875 ]\n",
      " [ 5.5649   3.0825 ]\n",
      " [18.945   22.638  ]\n",
      " [12.828   13.501  ]\n",
      " [10.957    7.0467 ]\n",
      " [13.176   14.692  ]\n",
      " [22.203   24.147  ]\n",
      " [ 5.2524  -1.22   ]\n",
      " [ 6.5894   5.9966 ]\n",
      " [ 9.2482  12.134  ]\n",
      " [ 5.8918   1.8495 ]\n",
      " [ 8.2111   6.5426 ]\n",
      " [ 7.9334   4.5623 ]\n",
      " [ 8.0959   4.1164 ]\n",
      " [ 5.6063   3.3928 ]\n",
      " [12.836   10.117  ]\n",
      " [ 6.3534   5.4974 ]\n",
      " [ 5.4069   0.55657]\n",
      " [ 6.8825   3.9115 ]\n",
      " [11.708    5.3854 ]\n",
      " [ 5.7737   2.4406 ]\n",
      " [ 7.8247   6.7318 ]\n",
      " [ 7.0931   1.0463 ]\n",
      " [ 5.0702   5.1337 ]\n",
      " [ 5.8014   1.844  ]\n",
      " [11.7      8.0043 ]\n",
      " [ 5.5416   1.0179 ]\n",
      " [ 7.5402   6.7504 ]\n",
      " [ 5.3077   1.8396 ]\n",
      " [ 7.4239   4.2885 ]\n",
      " [ 7.6031   4.9981 ]\n",
      " [ 6.3328   1.4233 ]\n",
      " [ 6.3589  -1.4211 ]\n",
      " [ 6.2742   2.4756 ]\n",
      " [ 5.6397   4.6042 ]\n",
      " [ 9.3102   3.9624 ]\n",
      " [ 9.4536   5.4141 ]\n",
      " [ 8.8254   5.1694 ]\n",
      " [ 5.1793  -0.74279]\n",
      " [21.279   17.929  ]\n",
      " [14.908   12.054  ]\n",
      " [18.959   17.054  ]\n",
      " [ 7.2182   4.8852 ]\n",
      " [ 8.2951   5.7442 ]\n",
      " [10.236    7.7754 ]\n",
      " [ 5.4994   1.0173 ]\n",
      " [20.341   20.992  ]\n",
      " [10.136    6.6799 ]\n",
      " [ 7.3345   4.0259 ]\n",
      " [ 6.0062   1.2784 ]\n",
      " [ 7.2259   3.3411 ]\n",
      " [ 5.0269  -2.6807 ]\n",
      " [ 6.5479   0.29678]\n",
      " [ 7.5386   3.8845 ]\n",
      " [ 5.0365   5.7014 ]\n",
      " [10.274    6.7526 ]\n",
      " [ 5.1077   2.0576 ]\n",
      " [ 5.7292   0.47953]\n",
      " [ 5.1884   0.20421]\n",
      " [ 6.3557   0.67861]\n",
      " [ 9.7687   7.5435 ]\n",
      " [ 6.5159   5.3436 ]\n",
      " [ 8.5172   4.2415 ]\n",
      " [ 9.1802   6.7981 ]\n",
      " [ 6.002    0.92695]\n",
      " [ 5.5204   0.152  ]\n",
      " [ 5.0594   2.8214 ]\n",
      " [ 5.7077   1.8451 ]\n",
      " [ 7.6366   4.2959 ]\n",
      " [ 5.8707   7.2029 ]\n",
      " [ 5.3054   1.9869 ]\n",
      " [ 8.2934   0.14454]\n",
      " [13.394    9.0551 ]\n",
      " [ 5.4369   0.61705]]\n"
     ]
    }
   ],
   "source": [
    "import numpy as np\n",
    "train_data = np.loadtxt('ex1data1.txt',delimiter = ',')\n",
    "print(train_data)"
   ]
  },
  {
   "cell_type": "markdown",
   "metadata": {
    "id": "GViWvAU7E8Pq"
   },
   "source": [
    "## Part 2: 그래프 그리기\n",
    "\n",
    "모델 만들기에 앞서 데이터의 경향성을 파악하는 것이 필요합니다. 데이터 간의 관계를 알고 있다면, 그에 따른 적합한 모델을 선택할 수 있습니다.\n",
    "데이터의 경향성을 분석하기 위한 일차적 방법은 데이터를 그래프고 그려보는 것입니다. 파이썬을 활용하여 그래프를 그릴 때는 matplotlib이라는 라이브러리를 사용합니다.\n",
    "\n",
    "**matplotlib**은 데이터를 차트나 플롯으로 표현해주는 데이터 시각화 라이브러리로 John D. Hunter에 의해 처음 개발되었습니다. matplotlib 라이브러리를 사용하여 막대그래프(barchart) 같은 단순한 그래프부터 논문이나 책에 들어갈 높은 수준의 그래프를 만들 수 있습니다.\n",
    "\n",
    "\n",
    "matplotlib을 사용하기 위해서는 우선 아래와 같이 matplotlib 패키지를 불러와야 합니다.\n",
    "```python\n",
    "    import matplotlib\n",
    "    import matplotlib.pyplot as plt # 그래프 그릴 때 사용할 패키지 파일 plt로 별칭을 달아 사용\n",
    "```\n",
    "위의 패키지를 포함하는 코드는 matplotlib 사용에 있어 관용구 같이 사용되며, 대부분의 matplotlib을 사용한 코드에서 볼 수 있습니다. 그래프를 쉽게 그리기 위한 다양한 함수 들을 제공하는 모듈로 plt라는 이름으로 사용합니다.\n",
    "\n",
    "위와 같은 그래프를 scatter 차트라고 부르며, matplotlib에서 해당 그래프는 plt.scatter 함수를 사용하여 그릴 수 있습니다.\n",
    "아래의 코드를 참조하세요.\n",
    "\n",
    "```python\n",
    "    x = train_data[:, 0] # 인구수\n",
    "    y = train_data[:, 1] # 매출\n",
    "    plt.scatter(x, y, marker='x')  # Scatter 차트, 첫번째 인자는 x축에 해당하는 값을 의미, y축에 해당하는 값을 의미\n",
    "                                   # marker는 데이터를 차트에서 X로 표현\n",
    "    plt.ylabel('Profit in $10,000s') # y축 레이블 설정\n",
    "    plt.xlabel('Population of City in 10,000s') # x축 레이블 설정\n",
    "    plt.show()\n",
    "```"
   ]
  },
  {
   "cell_type": "markdown",
   "metadata": {
    "id": "GViWvAU7E8Pq"
   },
   "source": [
    "## Question 2 \n",
    "앞서 코드를 바탕으로 주어진 데이터를 시각화 해 봅시다."
   ]
  },
  {
   "cell_type": "code",
   "execution_count": 3,
   "metadata": {},
   "outputs": [
    {
     "data": {
      "image/png": "[encoded data removed]",
      "text/plain": [
       "<Figure size 432x288 with 1 Axes>"
      ]
     },
     "metadata": {
      "needs_background": "light"
     },
     "output_type": "display_data"
    }
   ],
   "source": [
    "import matplotlib.pyplot as plt\n",
    "\n",
    "x = train_data[:, 0] # 인구수\n",
    "y = train_data[:, 1] # 매출\n",
    "plt.scatter(x, y, marker='x')  # Scatter 차트, 첫번째 인자는 x축에 해당하는 값을 의미, y축에 해당하는 값을 의미\n",
    "                               # marker는 데이터를 차트에서 X로 표현\n",
    "plt.ylabel('Profit in $10,000s') # y축 레이블 설정\n",
    "plt.xlabel('Population of City in 10,000s') # x축 레이블 설정\n",
    "plt.grid(True) # 격자\n",
    "plt.show()"
   ]
  },
  {
   "cell_type": "markdown",
   "metadata": {
    "id": "twPFXcMRE8Pq"
   },
   "source": [
    "## Part 3: Linear Regression\n",
    "위의 Part 2에서 *train_data*의 데이터를 살펴 보았습니다. \n",
    "그래프를 확인해보면 인구 수와 매출에 따라 선형적 관계가 있다는 것을 눈치챌 수 있습니다.\n",
    "\n",
    "인구 수에 따른 매출을 예측하기 위해 Linear Regression을 적용하여 예측 모델을 만들어 봅시다.\n",
    "\n",
    "*train_data*의 feature는 인구 수, 하나입니다. 따라서 Linear Regression 모델은 다음과 같습니다.\n",
    "\n",
    "$$H_\\theta(x) = \\theta_0 + \\theta_1x $$\n",
    "\n",
    "이번 과제에서는 초기 theta를 0으로 하여 시작하겠습니다.\n",
    "이후 구현에 필요한 입력 데이터 X, 결과 y는 아래의 코드에 정의되어 있습니다.\n",
    "np.dot 함수를 사용하여 모델 계산 하는 것과 그래프 그리는 함수를 보시고, 이후 문제에 변형하여 사용해보세요."
   ]
  },
  {
   "cell_type": "code",
   "execution_count": 4,
   "metadata": {
    "colab": {
     "base_uri": "https://localhost:8080/",
     "height": 248
    },
    "executionInfo": {
     "elapsed": 894,
     "status": "error",
     "timestamp": 1644128696220,
     "user": {
      "displayName": "",
      "photoUrl": "",
      "userId": ""
     },
     "user_tz": -540
    },
    "id": "_MfPmRkLE8Pr",
    "outputId": "5a44cef2-c0fa-4885-9ad2-ae295827bacc"
   },
   "outputs": [
    {
     "data": {
      "image/png": "[encoded data removed]",
      "text/plain": [
       "<Figure size 432x288 with 1 Axes>"
      ]
     },
     "metadata": {
      "needs_background": "light"
     },
     "output_type": "display_data"
    }
   ],
   "source": [
    "# Plotting header\n",
    "import matplotlib\n",
    "import matplotlib.pyplot as plt\n",
    "\n",
    "# 이 코드는 변수를 초기화한 코드 입니다\n",
    "theta = np.zeros((2,1))\n",
    "x = train_data[:, 0, np.newaxis]\n",
    "y = train_data[:, 1, np.newaxis]\n",
    "\n",
    "# insert x_0 column to x\n",
    "x_0 = np.ones((x.shape[0], 1)) #이 부분을 공부할 때 설명을 안했습니다. \n",
    "#y=ax+b의 그래프가 나와야 하지만, 변수는 x 하나입니다. 즉 y=theta0+theta1*x 그래프에서 x의 앞 행을 1로 한번 더 채워줘서\n",
    "#y=theta0*1+theta1*x 형태로 계산을 편하게 하는 것입니다. np.ones는 1로 채우는 함수입니다. \n",
    "X = np.concatenate((x_0, x), axis=1)\n",
    "\n",
    "plt.scatter(x, y, marker='x')  # Scatter 차트, 첫번째 인자는 x축에 해당하는 값을 의미, y축에 해당하는 값을 의미\n",
    "                            # marker는 데이터를 차트에서 X로 표현\n",
    "plt.plot(x, np.dot(X, theta), 'r')\n",
    "plt.ylabel('Profit in $10,000s') # y축 레이블 설정\n",
    "plt.xlabel('Population of City in 10,000s') # x축 레이블 설정\n",
    "plt.show()"
   ]
  },
  {
   "cell_type": "markdown",
   "metadata": {
    "id": "kqsPVXY3E8Pr"
   },
   "source": [
    "### 3.1 Cost Function\n",
    "\n",
    "만들고자 하는 모델의 정확성을 파악하기 위해서는 모델의 실제 예측값과 실제값과의 차이, 에러를 알아야 합니다.\n",
    "예측값과 실제값과의 차이를 정의하는 방법은 다양한데, 그 중에서 많이 사용하는 euclidian distance (L2 norm)를 일반적으로 사용합니다.\n",
    "\n",
    "Euclidian distance $||x - y||_2 = \\sqrt{x - y)^2}$\n",
    "\n",
    "모델 $H_\\theta(x)$의 cost function $J(\\theta)$는 각 데이터 셋에 모델 에러의 평균으로 정의합니다.\n",
    "계산의 편의성을 위해, euclidian distance 대신 eulcidian distance의 제곱을 사용하였고, 미분 계산의 편의성을 위해 1/2를 곱하여 정의합니다.\n",
    "\n",
    "$$J(\\theta) = {1 \\over 2m} \\sum_{i=1}^m(H_\\theta(x^{(i)}) - y^{(i)})^2$$\n",
    "\n",
    "\n",
    "## Question 3. Cost function을 정의하세요."
   ]
  },
  {
   "cell_type": "code",
   "execution_count": 30,
   "metadata": {
    "id": "5s9UEoV2E8Ps"
   },
   "outputs": [],
   "source": [
    "def cost_function(theta, x, y):\n",
    "    cost = 1/(2*len(x))* np.sum((x.dot(theta)-y)**2)\n",
    "\n",
    "    return cost"
   ]
  },
  {
   "cell_type": "markdown",
   "metadata": {
    "id": "3tXH78wtI47S"
   },
   "source": []
  },
  {
   "cell_type": "markdown",
   "metadata": {
    "id": "ZJvcwhkFE8Ps"
   },
   "source": [
    "### 3.2 Gradient Descent\n",
    "\n",
    "모델의 파라미터 $\\theta$를 최적화하기 위해서 Gradient descent 알고리즘을 사용해봅시다.\n",
    "파라미터 업데이트 식은 다음과 같습니다.\n",
    "\n",
    "$$\\theta_j := \\theta_j - {\\alpha \\over m}\\sum_{i=1}^m(H_\\theta(x^{(i)}) - y^{(i)}) x^{(i)}_j$$\n",
    "\n",
    "입력데이터가 m개일 때, $x^{(i)}, y^{(i)}$는 각각 i번째 데이터의 feature와 결과 label을 의미하며, $\\theta_j, x^{(i)}_j$는 j번째 feature에 해당하는 파라미터와 x의 값입니다. $x_0$은 1입니다.\n",
    "\n",
    "\n",
    "## Question 4. Gradient Descent 알고리즘을 구현하여 theta를 구하세요."
   ]
  },
  {
   "cell_type": "code",
   "execution_count": 31,
   "metadata": {
    "colab": {
     "base_uri": "https://localhost:8080/"
    },
    "id": "YNC6BnjGE8Ps",
    "outputId": "398a8038-a6de-4b2b-cfd5-706165ab035b",
    "scrolled": false
   },
   "outputs": [
    {
     "name": "stdout",
     "output_type": "stream",
     "text": [
      "[[-3.63029144]\n",
      " [ 1.16636235]]\n",
      "Expected theta [-3.6303, 1.1664]\n"
     ]
    }
   ],
   "source": [
    "theta = np.zeros((2,1))\n",
    "def update_func(theta, x, y, alpha=0.01): #gradient descent를 한번 수행하는 함수\n",
    "    new_theta = theta - (alpha/len(x))*(x.T).dot(x.dot(theta)-y)\n",
    "    return new_theta\n",
    "    \n",
    "J=[cost_function(theta, X, y)]\n",
    "niter = 1500 #gradient descent 수행 횟수, 임의로 지정 가능\n",
    "for i in range(niter):\n",
    "    new_theta = update_func(theta,X,y,alpha = 0.01)\n",
    "    theta = new_theta\n",
    "    J.append(cost_function(theta, X, y))\n",
    "print(theta)\n",
    "print('Expected theta [-3.6303, 1.1664]')"
   ]
  },
  {
   "cell_type": "markdown",
   "metadata": {
    "id": "jCkibPfbE8Pt"
   },
   "source": [
    "## Question 5. Graident Descent 알고리즘으로 구한 모델을 아래와 같이 기존 데이터와 함께 그려, 모델이 적합한지 확인하여라\n"
   ]
  },
  {
   "cell_type": "code",
   "execution_count": 33,
   "metadata": {
    "colab": {
     "base_uri": "https://localhost:8080/",
     "height": 280
    },
    "id": "KSAfuhkPE8Pt",
    "outputId": "41cafbbf-1211-44cf-afaa-4e4a8dd9974a"
   },
   "outputs": [
    {
     "data": {
      "image/png": "[encoded data removed]",
      "text/plain": [
       "<Figure size 432x288 with 1 Axes>"
      ]
     },
     "metadata": {
      "needs_background": "light"
     },
     "output_type": "display_data"
    }
   ],
   "source": [
    "plt.scatter(x, y, marker='x')  # Scatter 차트, 첫번째 인자는 x축에 해당하는 값을 의미, y축에 해당하는 값을 의미\n",
    "                            # marker는 데이터를 차트에서 X로 표현\n",
    "plt.plot(x, np.dot(X, theta), 'r')\n",
    "plt.ylabel('Profit in $10,000s') # y축 레이블 설정\n",
    "plt.xlabel('Population of City in 10,000s') # x축 레이블 설정\n",
    "plt.show()"
   ]
  },
  {
   "cell_type": "markdown",
   "metadata": {
    "id": "iljQOGb0E8Pt"
   },
   "source": [
    "## Question 6. 위의 graident descent 알고리즘을 사용할 때, 매 iteration에서 cost function의 변화를 그래프로 표현하세요."
   ]
  },
  {
   "cell_type": "code",
   "execution_count": 39,
   "metadata": {
    "colab": {
     "base_uri": "https://localhost:8080/",
     "height": 334
    },
    "id": "OV0V0SYuE8Pu",
    "outputId": "e08e98cd-412d-4a8b-c0f6-81fbf91d4acb"
   },
   "outputs": [
    {
     "data": {
      "image/png": "[encoded data removed]",
      "text/plain": [
       "<Figure size 432x288 with 1 Axes>"
      ]
     },
     "metadata": {
      "needs_background": "light"
     },
     "output_type": "display_data"
    }
   ],
   "source": [
    "# Put code to draw the above figure\n",
    "#이 내용을 plot하기 위해서 gradient descent의 각 iteration마다 나오는 theta값에 대해 cost function을 모두 저장해야겠죠?\n",
    "#Question6을 위해 Question4 부분도 수정이 필요합니다.\n",
    "iter = len(J)\n",
    "iteration = np.arange(iter)\n",
    "plt.plot(iteration[2:], J[2:], 'r')\n",
    "plt.ylabel('cost') # y축 레이블 설정\n",
    "plt.xlabel('iteration') # x축 레이블 설정\n",
    "plt.show()"
   ]
  },
  {
   "cell_type": "code",
   "execution_count": null,
   "metadata": {},
   "outputs": [],
   "source": []
  }
 ],
 "metadata": {
  "colab": {
   "collapsed_sections": [],
   "name": "linear_regression.ipynb의 사본",
   "provenance": [
    {
     "file_id": "https://github.com/ajouece109/2021fall_ece109_hw4-201820894/blob/main/linear_regression.ipynb",
     "timestamp": 1644128934008
    }
   ]
  },
  "interpreter": {
   "hash": "bdacd7c60da5a2b553604fa6479d8a1983ce6c79efe111e048a450b0b110a56e"
  },
  "kernelspec": {
   "display_name": "Python 3 (ipykernel)",
   "language": "python",
   "name": "python3"
  },
  "language_info": {
   "codemirror_mode": {
    "name": "ipython",
    "version": 3
   },
   "file_extension": ".py",
   "mimetype": "text/x-python",
   "name": "python",
   "nbconvert_exporter": "python",
   "pygments_lexer": "ipython3",
   "version": "3.9.7"
  }
 },
 "nbformat": 4,
 "nbformat_minor": 1
}
